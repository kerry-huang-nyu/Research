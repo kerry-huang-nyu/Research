{
 "cells": [
  {
   "cell_type": "markdown",
   "id": "d623202a-fe49-403e-bcfa-f77074f297bd",
   "metadata": {
    "jp-MarkdownHeadingCollapsed": true
   },
   "source": [
    "# Spring 2025 Final Report  #\n",
    "## Evan Brody & Kerry Huang ##\n",
    "## 05.14.2025 ##\n",
    "## Prof. Lisa Hellerstein ##\n",
    "\\\n",
    "**1. Background**\\\n",
    "Our research this semester focused around the representative problem in the field of stochastic boolean function evaluation, which concerns a function $f$ defined by\n",
    "$$\n",
    "f : [d]^n\\rightarrow \\{0,1\\}\n",
    "$$$$\n",
    "x\\mapsto \\begin{cases}\n",
    "1 & \\forall c\\in[d](\\exists i\\in[n] : x_i = c)\\\\\n",
    "0 & \\text{otherwise}\n",
    "\\end{cases}\n",
    "$$\n",
    "That is, $f(x) = 1$ if every number from $1$ to $d$ is present in $x$, and $f(x) = 0$ otherwise. In the vector $x$, each entry is an independent random variable that takes on values in $[d]$ according to a given probability mass function, and the cost of querying each variable is exactly $1$. Our investigation centered around finding efficient algorithms for generating provably cost-efficient strategies for evaluating $f$ given the probability mass function of each $x_i$.\n",
    "\\\n",
    "\\\n",
    "**2. The Submodular Goal Function Approach**"
   ]
  }
 ],
 "metadata": {
  "kernelspec": {
   "display_name": "Python 3 (ipykernel)",
   "language": "python",
   "name": "python3"
  },
  "language_info": {
   "codemirror_mode": {
    "name": "ipython",
    "version": 3
   },
   "file_extension": ".py",
   "mimetype": "text/x-python",
   "name": "python",
   "nbconvert_exporter": "python",
   "pygments_lexer": "ipython3",
   "version": "3.12.3"
  }
 },
 "nbformat": 4,
 "nbformat_minor": 5
}
