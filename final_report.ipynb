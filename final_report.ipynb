{
 "cells": [
  {
   "cell_type": "markdown",
   "id": "d623202a-fe49-403e-bcfa-f77074f297bd",
   "metadata": {
    "jp-MarkdownHeadingCollapsed": true
   },
   "source": [
    "# Spring 2025 Final Report  #\n",
    "## Evan Brody & Kerry Huang ##\n",
    "## 05.14.2025 ##\n",
    "## Prof. Lisa Hellerstein ##\n",
    "\\\n",
    "**1. Background**\\\n",
    "Our research this semester focused around the representative problem in the field of stochastic boolean function evaluation, which concerns a function $f$ defined by\n",
    "$$\n",
    "f : [d]^n\\rightarrow \\{0,1\\}\n",
    "$$\n",
    "$$\n",
    "x\\mapsto \\begin{cases}\n",
    "1 & \\forall c\\in[d](\\exists i\\in[n] : x_i = c)\\\\\n",
    "0 & \\text{otherwise}\n",
    "\\end{cases}\n",
    "$$\n",
    "That is, $f(x) = 1$ if every number from $1$ to $d$ is present in $x$, and $f(x) = 0$ otherwise. In the vector $x$, each entry is an independent random variable that takes on values in $[d]$ according to a given probability mass function (not necessarily identical between entries), and the cost of querying each variable is exactly $1$. Our investigation centered around finding efficient algorithms for generating provably cost-efficient strategies for evaluating $f$ given the probability mass function of each $x_i$.\n",
    "\\\n",
    "\\\n",
    "**2. The Submodular Goal Function Approach**\\\n",
    "One approach to cost-efficient boolean function evaluation is to reduce the problem to submodular cover. In submodular cover, a finite set of elements (the \"ground set\" or \"universe\") is provided with along with a function termed the \"goal function\" that acts as an oracle for the value of any subset of the ground set. The goal in this case is to collect enough elements of the ground set to reach a predetermined goal value $\\Gamma$, while minimizing the number of elements collected. The goal function must satisfy monotonicity, which entails that for any subsets $A\\subseteq B\\subseteq\\mathcal{U}$ where $\\mathcal{U}$ is the ground set,\n",
    "$$\n",
    "    u(A) \\leq u(B)\n",
    "$$\n",
    "where $u : 2^\\mathcal{U}\\rightarrow\\mathbb{Z}^{\\geq0}$ is the goal function. Furthermore, the goal function must be submodular, which entails that for any $A\\subseteq B\\subseteq\\mathcal{U}$ with $x\\in\\mathcal{U}$ such that $x\\notin B$,\n",
    "$$\n",
    "    u(A\\cup\\{x\\}) - u(A) \\geq u(B\\cup\\{x\\}) - u(B)\n",
    "$$\n",
    "That is, one cannot gain more value from a single element $x$ when adding it to some set as opposed to some subset of that set. In addition, $u$ must be such that\n",
    "$$\n",
    "    u(\\varnothing) = 0\n",
    "$$\n",
    "$$\n",
    "    u(\\mathcal{U}) = \\Gamma\n",
    "$$\n",
    "When applied to stochastic boolean function evaluation, the ground set consists of the parameters of the function to be evaluated, collecting an element corresponds to querying a parameter, and a goal function must be constructed as\n",
    "$$\n",
    "    u : \\{*,0,1\\}^n\\rightarrow\\mathbb{Z}^{\\geq 0}\n",
    "$$\n",
    "where a vector in $\\{*,0,1\\}^n$ represents unknown parameters, parameters revealed to be $0$, and parameters revealed to be $1$. The requirement for monotonicity translates to the requirement that one cannot lose value by revealing a parameter; that is, for any $\\alpha,\\beta\\in\\{*,0,1\\}^n$"
   ]
  }
 ],
 "metadata": {
  "kernelspec": {
   "display_name": "Python 3 (ipykernel)",
   "language": "python",
   "name": "python3"
  },
  "language_info": {
   "codemirror_mode": {
    "name": "ipython",
    "version": 3
   },
   "file_extension": ".py",
   "mimetype": "text/x-python",
   "name": "python",
   "nbconvert_exporter": "python",
   "pygments_lexer": "ipython3",
   "version": "3.12.3"
  }
 },
 "nbformat": 4,
 "nbformat_minor": 5
}
