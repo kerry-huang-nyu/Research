{
 "cells": [
  {
   "cell_type": "markdown",
   "metadata": {},
   "source": [
    "# Souces Referenced: \n",
    "### Combinatorial form: https://math.berkeley.edu/~mhaiman/math172-spring10/exponential.pdf \n",
    "### Approximation form: https://mat.uab.cat/matmat_antiga/PDFv2014/v2014n02.pdf\n",
    "\n"
   ]
  },
  {
   "cell_type": "markdown",
   "metadata": {
    "vscode": {
     "languageId": "html"
    }
   },
   "source": [
    "Our problem is that we want to calculate the expected number of rolls to observe all $K$ sides of a loaded $K$ sided dice with probability $p_i$ of landing on each side. \n",
    "\n",
    "We use exponential generating functions to encode the opportunities of observing each side $n$ times. We subtract 1 because we want to exclude the possibility of observing the side 0 times. \n",
    "$$\n",
    "e^x - 1 =  \\sum_{n=1}^{\\infty} \\frac{1}{n!}x^n= \\frac{1}{1!}x + \\frac{1}{2!}x^2 + \\frac{1}{3!}x^3 ... \n",
    "$$\n",
    "\n",
    "Each side contributes $p_i$ for each time it is observed, so we multiply $p_i$ for each time it is observed. \n",
    "$$\n",
    "e^{p_ix} - 1 =  \\sum_{n=1}^{\\infty} \\frac{p_i^n}{n!}x^n= \\frac{p_i}{1!}x + \\frac{p_i^2}{2!}x^2 + \\frac{p_i^3}{3!}x^3 ... \n",
    "$$\n",
    "\n",
    "Subsequently we want to multiply this form with all $K$ sides of the dice to get the chance of observing their combination. \n",
    "$$\n",
    "\\prod_{i=1}^{K} e^{p_ix} - 1\n",
    "$$\n",
    "\n",
    "To calculate the expected value, we must multiply the entire equation with x. This is equivalent to multiplying each term by n. \n",
    "$$\n",
    "x \\prod_{i=1}^{K} e^{p_ix} - 1\n",
    "$$\n",
    "\n",
    "Now evaluating the $a_n$ term of this equation encodes the probability of using $n$ rolls to ... ignore this, this could be incorrect"
   ]
  },
  {
   "cell_type": "markdown",
   "metadata": {},
   "source": [
    "According to the UAB textbook: \n",
    "$$\n",
    "E[Z] = \\int_0^{+\\infty} P(Z > t) \\, dt =\n",
    "\\int_0^{+\\infty} \\left( 1 - \\prod_{i=1}^{K} (1 - e^{-p_i t}) \\right) dt.\n",
    "$$"
   ]
  },
  {
   "cell_type": "code",
   "execution_count": 11,
   "metadata": {
    "vscode": {
     "languageId": "latex"
    }
   },
   "outputs": [
    {
     "name": "stdout",
     "output_type": "stream",
     "text": [
      "Integral result: 150.0002061430633, Estimated error: 7.553616932056446e-10\n"
     ]
    }
   ],
   "source": [
    "import numpy as np\n",
    "import scipy.integrate as spi\n",
    "\n",
    "# Define the function to integrate\n",
    "def integrand(t, p):\n",
    "    product_term = np.prod([1 - np.exp(-pi * t) for pi in p])\n",
    "    return 1 - product_term\n",
    "\n",
    "# Define parameters\n",
    "p_values = [0.25, 0.25, 0.25, 0.25]  # gives Integral result: 8.33333333333333, Estimated error: 4.762530174787118e-10\n",
    "p_values = [1] #gives Integral result: Integral result: 1.0, Estimated error: 5.84268254549117e-11\n",
    "p_values = [0, 1] #gives invalid result The integral is probably divergent, or slowly convergent.\n",
    "p_values = [0.01, 0.99] #gives Integral result: Integral result: 100.01010101010183, Estimated error: 1.1558843774605579e-06\n",
    "p_values = [0.01, 0.01, 0.98] #gives Integral result: 150.0002061430633, Estimated error: 7.553616932056446e-10\n",
    "\n",
    "N = len(p_values)\n",
    "\n",
    "# Perform numerical integration\n",
    "result, error = spi.quad(integrand, 0, np.inf, args=(p_values,))\n",
    "\n",
    "print(f\"Integral result: {result}, Estimated error: {error}\")"
   ]
  },
  {
   "cell_type": "code",
   "execution_count": null,
   "metadata": {},
   "outputs": [],
   "source": []
  }
 ],
 "metadata": {
  "kernelspec": {
   "display_name": "Python 3 (ipykernel)",
   "language": "python",
   "name": "python3"
  },
  "language_info": {
   "codemirror_mode": {
    "name": "ipython",
    "version": 3
   },
   "file_extension": ".py",
   "mimetype": "text/x-python",
   "name": "python",
   "nbconvert_exporter": "python",
   "pygments_lexer": "ipython3",
   "version": "3.13.2"
  }
 },
 "nbformat": 4,
 "nbformat_minor": 4
}
